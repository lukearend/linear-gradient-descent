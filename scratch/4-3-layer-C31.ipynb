{
 "cells": [
  {
   "cell_type": "code",
   "execution_count": 25,
   "id": "e202295f-1a4d-4028-8e84-a8b0ecf7dfdc",
   "metadata": {},
   "outputs": [],
   "source": [
    "import numpy as np"
   ]
  },
  {
   "cell_type": "code",
   "execution_count": 151,
   "id": "222d0e37-c5db-434f-a10e-d15053632ec8",
   "metadata": {},
   "outputs": [],
   "source": [
    "import pickle\n",
    "\n",
    "with open('mnist.pkl', 'rb') as f:\n",
    "    mnist = pickle.load(f)\n",
    "X = mnist['X'][:10000].astype('float32')\n",
    "Y = mnist['Y'][:10000].astype('float32')\n",
    "X -= X.mean(axis=0)\n",
    "U, S, VT = np.linalg.svd(X.T @ X)\n",
    "X = X @ VT[:100].T\n",
    "X /= X.std(axis=0)\n",
    "Y /= Y.std(axis=0)"
   ]
  },
  {
   "cell_type": "code",
   "execution_count": 172,
   "id": "ef652e37-6515-48a8-b3ee-43702584cc9b",
   "metadata": {},
   "outputs": [],
   "source": [
    "C31 = Y.T @ X / len(X)"
   ]
  },
  {
   "cell_type": "code",
   "execution_count": 176,
   "id": "a1f1aca0-daf1-4412-8f9c-7dc6834836aa",
   "metadata": {},
   "outputs": [],
   "source": [
    "from functools import reduce\n",
    "\n",
    "def forward(X, Ws):\n",
    "    return X @ reduce(np.dot, Ws[::-1]).T\n",
    "\n",
    "def loss(X, Y, Ws):\n",
    "    return np.mean((Y - forward(X, Ws)) ** 2)"
   ]
  },
  {
   "cell_type": "code",
   "execution_count": 197,
   "id": "b3117372-9602-4674-92ed-1605e509f0ca",
   "metadata": {},
   "outputs": [],
   "source": [
    "def grad(C31, Ws):\n",
    "    \"\"\"\n",
    "    E = Y - forward(X, Ws)\n",
    "    X.T @ E = X.T @ Y - X.T @ forward(X, Ws)\n",
    "            = C13 - X.T @ X @ Ws.T\n",
    "            = C31 - Ws @ X.T @ X\n",
    "            = C31 - Ws if C11 = I\n",
    "            = S31 - Wbars under change of variables\n",
    "    \"\"\"\n",
    "    dg = reduce(np.dot, Ws[::-1]) - C31\n",
    "    dW3 = (W2 @ W1 @ dg.T).T\n",
    "    dW2 = (W1 @ dg.T @ W3).T\n",
    "    dW1 = (dg.T @ W3 @ W2).T\n",
    "    return dW1, dW2, dW3"
   ]
  },
  {
   "cell_type": "code",
   "execution_count": 198,
   "id": "7ca21662-0315-47ab-bd9c-35d765644937",
   "metadata": {},
   "outputs": [
    {
     "data": {
      "text/plain": [
       "2.494201724897844"
      ]
     },
     "execution_count": 198,
     "metadata": {},
     "output_type": "execute_result"
    }
   ],
   "source": [
    "W1 = np.random.randn(40, 100) / np.sqrt(100)\n",
    "W2 = np.random.randn(20, 40) / np.sqrt(40)\n",
    "W3 = np.random.randn(10, 20) / np.sqrt(20)\n",
    "\n",
    "loss(X, Y, [W1, W2, W3])"
   ]
  },
  {
   "cell_type": "code",
   "execution_count": 204,
   "id": "2545e906-2711-4ca5-984b-820010fea5cb",
   "metadata": {},
   "outputs": [],
   "source": [
    "grads = grad(C31, [W1, W2, W3])\n",
    "for dW, W in zip(grads, [W1, W2, W3]):\n",
    "    W -= 0.001 * dW"
   ]
  },
  {
   "cell_type": "code",
   "execution_count": 205,
   "id": "ddadc21f-6a09-42b8-ae98-7893874227e5",
   "metadata": {},
   "outputs": [
    {
     "data": {
      "text/plain": [
       "2.4293152254819312"
      ]
     },
     "execution_count": 205,
     "metadata": {},
     "output_type": "execute_result"
    }
   ],
   "source": [
    "loss(X, Y, [W1, W2, W3])"
   ]
  },
  {
   "cell_type": "code",
   "execution_count": null,
   "id": "a8aa91ca-2c88-46df-aa27-969b7c9eb814",
   "metadata": {},
   "outputs": [],
   "source": []
  },
  {
   "cell_type": "code",
   "execution_count": 206,
   "id": "b988e023-9dc6-42ed-8167-d5c68d9835f9",
   "metadata": {},
   "outputs": [],
   "source": [
    "def output_modes(U33, W32):\n",
    "    return U33.T @ W32\n",
    "\n",
    "def input_modes(V11, W21):\n",
    "    return V11 @ W21.T"
   ]
  },
  {
   "cell_type": "code",
   "execution_count": null,
   "id": "e2bf9a81-dbd2-436e-8501-44b79d44f45f",
   "metadata": {},
   "outputs": [],
   "source": [
    "output_modes("
   ]
  }
 ],
 "metadata": {
  "kernelspec": {
   "display_name": "Python 3 (ipykernel)",
   "language": "python",
   "name": "python3"
  },
  "language_info": {
   "codemirror_mode": {
    "name": "ipython",
    "version": 3
   },
   "file_extension": ".py",
   "mimetype": "text/x-python",
   "name": "python",
   "nbconvert_exporter": "python",
   "pygments_lexer": "ipython3",
   "version": "3.10.6"
  }
 },
 "nbformat": 4,
 "nbformat_minor": 5
}
