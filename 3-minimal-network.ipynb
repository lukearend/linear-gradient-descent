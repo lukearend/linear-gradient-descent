{
 "cells": [
  {
   "cell_type": "code",
   "execution_count": 1,
   "id": "f11d14b2-d6f6-4c7a-bcca-d11776153db3",
   "metadata": {},
   "outputs": [],
   "source": [
    "import numpy as np"
   ]
  },
  {
   "cell_type": "code",
   "execution_count": 2,
   "id": "af2cbc9e-985a-41ce-9d20-c5748a16cf6f",
   "metadata": {},
   "outputs": [],
   "source": [
    "def forward(X, Ws):\n",
    "    activity = [X]\n",
    "    for W in Ws:\n",
    "        X = X @ W.T\n",
    "        activity.append(X)\n",
    "    return activity\n",
    "\n",
    "def backward(Y, Ws, activity, lr):\n",
    "    E = Y - activity.pop()\n",
    "    dLdg = -2 * E\n",
    "    for W in Ws[::-1]:\n",
    "        X = activity.pop()\n",
    "        dLdW = np.sum(dLdg[:, :, np.newaxis] * X[:, np.newaxis, :], axis=0)\n",
    "        dLdg = np.sum(dLdg[:, :, np.newaxis] * W[np.newaxis, :, :], axis=1)\n",
    "        W -= lr * dLdW\n",
    "    return np.sum(E ** 2)\n",
    "\n",
    "def network(Ws, X, Y=None, lr=0):\n",
    "    if Y is None:\n",
    "        return forward(X, Ws)[-1]\n",
    "    return backward(Y, Ws, forward(X, Ws), lr)"
   ]
  },
  {
   "cell_type": "code",
   "execution_count": 3,
   "id": "73668daa-0019-4e40-a517-6f5cf33c425b",
   "metadata": {},
   "outputs": [],
   "source": [
    "from functools import partial"
   ]
  },
  {
   "cell_type": "code",
   "execution_count": 4,
   "id": "36c69c56-975f-4ef9-b400-7a15cb086595",
   "metadata": {},
   "outputs": [],
   "source": [
    "N1 = 100\n",
    "N2 = 32\n",
    "N3 = 10\n",
    "P = 1000\n",
    "\n",
    "np.random.seed(0)\n",
    "Wstar = np.random.randn(N3, N1) / np.sqrt(N1)\n",
    "\n",
    "X = np.random.randn(P, N1)\n",
    "X0 = X - X.mean(axis=0)\n",
    "_, s, VT = np.linalg.svd(X0.T @ X0)\n",
    "X = X0 @ VT.T / np.sqrt(s)\n",
    "Y = X @ Wstar.T\n",
    "\n",
    "W21 = np.random.randn(N2, N1) / np.sqrt(N1)\n",
    "W32 = np.random.randn(N3, N2) / np.sqrt(N2)\n",
    "g = partial(network, [W21, W32])"
   ]
  },
  {
   "cell_type": "code",
   "execution_count": 5,
   "id": "0773e21c-c11c-4ff7-b7de-186c96013789",
   "metadata": {},
   "outputs": [
    {
     "data": {
      "text/plain": [
       "21.154511551381834"
      ]
     },
     "execution_count": 5,
     "metadata": {},
     "output_type": "execute_result"
    }
   ],
   "source": [
    "g(X, Y)"
   ]
  },
  {
   "cell_type": "code",
   "execution_count": 6,
   "id": "b6d34148-bd96-44a1-bbd7-34572c148f62",
   "metadata": {},
   "outputs": [
    {
     "name": "stdout",
     "output_type": "stream",
     "text": [
      "0 21.154511551381834\n",
      "10 0.7755734772305993\n",
      "20 0.04879232359184037\n",
      "30 0.0034612062519514164\n",
      "40 0.0002848261540952846\n",
      "50 2.5556794580694936e-05\n",
      "60 2.409958043060305e-06\n",
      "70 2.3390660997556447e-07\n",
      "80 2.3086055192145785e-08\n",
      "90 2.300735090816294e-09\n",
      "100 2.3057644184327465e-10\n",
      "110 2.3182863738803365e-11\n",
      "120 2.3352330815355485e-12\n",
      "130 2.354845202984483e-13\n",
      "140 2.3761068625380395e-14\n",
      "CPU times: user 9.57 s, sys: 6.46 s, total: 16 s\n",
      "Wall time: 2.15 s\n"
     ]
    }
   ],
   "source": [
    "%%time\n",
    "for i in range(150):\n",
    "    L = g(X, Y, lr=0.1)\n",
    "    if i % 10 == 0:\n",
    "        print(i, L)"
   ]
  },
  {
   "cell_type": "code",
   "execution_count": 7,
   "id": "b85754bc-6b49-4246-9e52-a2521b1b8260",
   "metadata": {},
   "outputs": [
    {
     "data": {
      "text/plain": [
       "True"
      ]
     },
     "execution_count": 7,
     "metadata": {},
     "output_type": "execute_result"
    }
   ],
   "source": [
    "np.allclose(W32 @ W21, Wstar)"
   ]
  },
  {
   "cell_type": "code",
   "execution_count": null,
   "id": "d7ee6442-cdf2-4a2c-ac37-afbda6d987ba",
   "metadata": {},
   "outputs": [],
   "source": []
  }
 ],
 "metadata": {
  "kernelspec": {
   "display_name": "Python 3 (ipykernel)",
   "language": "python",
   "name": "python3"
  },
  "language_info": {
   "codemirror_mode": {
    "name": "ipython",
    "version": 3
   },
   "file_extension": ".py",
   "mimetype": "text/x-python",
   "name": "python",
   "nbconvert_exporter": "python",
   "pygments_lexer": "ipython3",
   "version": "3.10.6"
  }
 },
 "nbformat": 4,
 "nbformat_minor": 5
}
