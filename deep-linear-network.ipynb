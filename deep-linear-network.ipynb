{
 "cells": [
  {
   "cell_type": "code",
   "execution_count": 1,
   "id": "75c2021f-0641-483f-b977-565ab08f76ef",
   "metadata": {},
   "outputs": [],
   "source": [
    "from functools import reduce\n",
    "import matplotlib.pyplot as plt\n",
    "import numpy as np\n",
    "import pandas as pd\n",
    "from tqdm.notebook import tqdm\n",
    "np.random.seed(0)"
   ]
  },
  {
   "cell_type": "markdown",
   "id": "d41dab4f-1cfd-4fd8-8625-831184bddb15",
   "metadata": {},
   "source": [
    "# Introduction"
   ]
  },
  {
   "cell_type": "markdown",
   "id": "9d3d9c99-238f-417a-8c0d-5ee1ad2c55ab",
   "metadata": {},
   "source": [
    "This notebook investigates deep linear networks as described in *\"Exact solution to the nonlinear dynamics of learning in deep linear neural networks\"* by Andrew Saxe, James McClelland, and Surya Ganguli.\n",
    "\n",
    "The notebook has three parts:\n",
    "1. In part 1, we explain gradient descent and implement the trainable linear network.\n",
    "2. In part 2, we train the linear network to solve an MNIST classification task.\n",
    "3. In part 3, we test the claims made by Saxe et al. about dynamical isometry."
   ]
  },
  {
   "cell_type": "markdown",
   "id": "a9823cef-8899-4b44-a96b-118048adb5f7",
   "metadata": {},
   "source": [
    "# Part 1: Gradient descent"
   ]
  },
  {
   "cell_type": "markdown",
   "id": "dfbd1c4c-eaa3-4c9f-8d4c-fc1e0449ce26",
   "metadata": {},
   "source": [
    "### The data"
   ]
  },
  {
   "attachments": {},
   "cell_type": "markdown",
   "id": "2bc34b37-3fd2-4e3f-ad7e-bc96a53cc4b6",
   "metadata": {},
   "source": [
    "We want a linear network to approximate a **target function** $f$ which maps $N$-vectors to $M$-vectors. \n",
    "\n",
    "To program the network we need a **dataset** of examples of the input-output mapping $\\mathcal D = x^\\mu, y^\\mu$ for $\\mu = 1, 2 \\dots P$.\n",
    "\n",
    "We take $X$ as the first 100 (whitened) columns of the first 50000 MNIST examples, and $Y$ as a one-hot coded category label."
   ]
  },
  {
   "cell_type": "code",
   "execution_count": 2,
   "id": "6326a154-7ff7-4b3e-98a7-a8d5ffefcdaf",
   "metadata": {},
   "outputs": [],
   "source": [
    "X, Y = pd.read_pickle('mnist.pkl')\n",
    "X = X[:50000]\n",
    "Y = Y[:50000]\n",
    "X = X - X.mean(axis=0)\n",
    "U, S, VT = np.linalg.svd(X.T @ X)\n",
    "X = X @ VT[:100].T\n",
    "X = X / np.std(X, axis=0)"
   ]
  },
  {
   "cell_type": "markdown",
   "id": "f6d2ef33-0dc9-43db-99dc-41ef0edcb01f",
   "metadata": {},
   "source": [
    "### The network"
   ]
  },
  {
   "attachments": {},
   "cell_type": "markdown",
   "id": "e1e20990-883f-4d2c-8249-e58659259334",
   "metadata": {},
   "source": [
    "The architecture of an $L$-layer linear network is described by the layer sizes $(N_0, N_1 \\dots N_L)$.\n",
    "\n",
    "In this convention, layer $0$ assumes the value of the input vector and layer $L$ assumes the output values.\n",
    "\n",
    "The network computes a **programmable mapping** $g$ parameterized by the matrices $(W_1, W_2 \\dots W_L)$.\n",
    "\n",
    "$W^l$ is a $N_l \\times N_{l - 1}$ matrix that maps vectors from layer $l - 1$ to $l$.\n",
    "\n",
    "The network computes the function\n",
    "\n",
    "$$g(X) = X {W_1}^T {W_2}^T \\dots {W_L}^T$$\n",
    "\n",
    "when applied to matrix $X$ with input vectors $x$ on its rows."
   ]
  },
  {
   "cell_type": "code",
   "execution_count": 3,
   "id": "9be377b4-6de4-4466-a789-c3f701628087",
   "metadata": {},
   "outputs": [],
   "source": [
    "def forward(X, Wl):\n",
    "    Xl = [X]\n",
    "    for W in Wl:\n",
    "        X = X @ W.T\n",
    "        Xl.append(X)\n",
    "    gX = Xl[-1]\n",
    "    return gX, Xl"
   ]
  },
  {
   "cell_type": "markdown",
   "id": "4ef26d1b-0746-4ebf-a411-3f56202c9435",
   "metadata": {},
   "source": [
    "### The objective"
   ]
  },
  {
   "attachments": {},
   "cell_type": "markdown",
   "id": "5ed4d1f7-0188-452f-89bf-014f5723085e",
   "metadata": {},
   "source": [
    "Now, we want to optimize $g$ for approximating the target mapping $f$ over the dataset $\\mathcal D$.\n",
    "\n",
    "To do this we define an **objective function $\\mathcal L$** that outputs a quantity called the loss.\n",
    "\n",
    "Then the goal of gradient descent is to find $(W^1, W^2 \\dots W^L)$ that minimize the loss given $\\mathcal D$."
   ]
  },
  {
   "cell_type": "markdown",
   "id": "30831954-d2de-4d23-bfad-4828cdc25302",
   "metadata": {},
   "source": [
    "We choose **mean squared error** as the loss, where error $E = f(X) - g(X)$:"
   ]
  },
  {
   "cell_type": "code",
   "execution_count": 4,
   "id": "0fff7d4d-1b24-42c5-b7ca-02e4134e709a",
   "metadata": {},
   "outputs": [],
   "source": [
    "def loss(fX, gX):\n",
    "    return np.mean((fX - gX) ** 2)"
   ]
  },
  {
   "cell_type": "markdown",
   "id": "8f5dc9ea-4316-40bf-9b1b-b99b226d1b6e",
   "metadata": {},
   "source": [
    "### Computing gradients"
   ]
  },
  {
   "attachments": {},
   "cell_type": "markdown",
   "id": "484cd18c-4b9c-4d2a-a151-4420bb05064a",
   "metadata": {},
   "source": [
    "Observe that $\\frac{dL}{dE} = 2 \\cdot E$ and $\\frac{dE}{dg} = -1$.\n",
    "\n",
    "Then dropping a constant $2$ and denoting activation at the output layer $X_L$,\n",
    "\n",
    "$$\\frac{d\\mathcal L}{dX_L} = g(X) - f(X).$$\n",
    "\n",
    "Since layer $l$ computes $X_{l-1} {W_l}^T$, the gradient of its output with respect to its input is $W^T$.\n",
    "\n",
    "Then denoting activations at layer $l$ as $X_l$,\n",
    "\n",
    "$$\\frac{dX_l}{dX_{l - 1}} = {W_l}^T$$\n",
    "\n",
    "Likewise, the gradient of its weight matrix ${W_l}^T$ with respect its output is $X_{l-1}$, the layer's input:\n",
    "\n",
    "$$\\frac{dX_l}{{dW_l}^T} = {X_{l - 1}}.$$\n",
    "\n",
    "Using these equations we can propagate gradients backward from the loss to any part of the network.\n",
    "\n",
    "We stop at each layer $l$ and compute the gradients of $\\mathcal L$ with respect $W_l$ using that layer's activation:\n",
    "\n",
    "$$\\frac{d\\mathcal L}{dW_l^T} = \\frac{d\\mathcal L}{dX_L} \\frac{dX_L}{dX_{L-1}} \\dots \\frac{dX_{l+1}}{dX_l} \\frac{dX_l}{dW_l^T}$$"
   ]
  },
  {
   "cell_type": "code",
   "execution_count": 5,
   "id": "2d5ef524-6499-4028-b909-14e0db84b708",
   "metadata": {},
   "outputs": [],
   "source": [
    "def backward(fX, Wl, Xl):\n",
    "    E = fX - Xl.pop()\n",
    "    dLdg = -2 * E\n",
    "    dLdWl = []\n",
    "    for W in Wl[::-1]:\n",
    "        X = Xl.pop()\n",
    "        dLdW = np.sum(dLdg[:, :, np.newaxis] * X[:, np.newaxis, :], axis=0)\n",
    "        dLdg = np.sum(dLdg[:, :, np.newaxis] * W[np.newaxis, :, :], axis=1)\n",
    "        dLdWl.append(dLdW)\n",
    "    return dLdWl[::-1]"
   ]
  },
  {
   "cell_type": "markdown",
   "id": "39b7794d-9793-444b-9535-aa490305ca5e",
   "metadata": {},
   "source": [
    "### Stepwise update"
   ]
  },
  {
   "attachments": {},
   "cell_type": "markdown",
   "id": "8ec4e544-4d4f-434a-aba4-415adc2d2a6b",
   "metadata": {},
   "source": [
    "Gradient descent iteratively updates $(W^1, W^2 \\dots W^L)$ in a manner that reduces $\\mathcal L$.\n",
    "\n",
    "This is achieved by applying the **update rule**\n",
    "\n",
    "$$d W_l = -\\lambda \\cdot \\frac{d\\mathcal L}{dW_l}$$\n",
    "\n",
    "where $\\lambda$ is a small learning rate.\n",
    "\n",
    "Each step of gradient descent updates each weight matrix slightly in a direction opposite to its gradient with respect to the loss.\n",
    "\n",
    "This reduces $g$'s actual error at approximating $f$ on $X$ and expected error at approximating $f$ on an input distribution like $X$."
   ]
  },
  {
   "cell_type": "code",
   "execution_count": 6,
   "id": "d79fe760-b666-40e6-8639-6cff963950f4",
   "metadata": {},
   "outputs": [],
   "source": [
    "def update(Wl, dLdWl, lr):\n",
    "    for W, dLdW in zip(Wl, dLdWl):\n",
    "        W -= lr * dLdW"
   ]
  },
  {
   "cell_type": "markdown",
   "id": "45b07a68-b7bf-43af-a7e4-43d71012b9d2",
   "metadata": {},
   "source": [
    "# Part 2: Solving a task"
   ]
  },
  {
   "attachments": {},
   "cell_type": "markdown",
   "id": "7a119128-376c-497b-baf6-901ab2002323",
   "metadata": {},
   "source": [
    "Can a linear network learn to classify MNIST digits using the $\\arg \\max$ decision rule?"
   ]
  },
  {
   "cell_type": "code",
   "execution_count": 7,
   "id": "361f8c95-31a4-40e5-979a-860194b7739a",
   "metadata": {},
   "outputs": [],
   "source": [
    "def accuracy(fX, gX):\n",
    "    return np.mean(np.argmax(fX, axis=1) == np.argmax(gX, axis=1))"
   ]
  },
  {
   "cell_type": "markdown",
   "id": "6ec86bf1-da04-4c55-aa4b-193a15ec3a47",
   "metadata": {},
   "source": [
    "### Training a small network"
   ]
  },
  {
   "cell_type": "markdown",
   "id": "e364df93-3335-481a-bf26-dbd1e1af7815",
   "metadata": {},
   "source": [
    "We initialize a small network, drawing the weights as norm-preserving random projections."
   ]
  },
  {
   "cell_type": "code",
   "execution_count": 8,
   "id": "56e19a2e-7f88-473d-a722-8abb4385c256",
   "metadata": {},
   "outputs": [],
   "source": [
    "def initialize_W(Nl):\n",
    "    Wl = []\n",
    "    for Nin, Nout in zip(Nl[:-1], Nl[1:]):\n",
    "        W = np.random.randn(Nout, Nin)\n",
    "        W /= np.linalg.norm(W, axis=1, keepdims=True)\n",
    "        Wl.append(W)\n",
    "    return Wl\n",
    "\n",
    "# 2-layer linear network with 32 hidden units\n",
    "Nl = [100, 32, 10]\n",
    "Wl = initialize_W(Nl)\n",
    "t = 0"
   ]
  },
  {
   "cell_type": "markdown",
   "id": "6482e3e1-5b05-4740-92b9-ee59ea073a1c",
   "metadata": {},
   "source": [
    "Before any training, the network's accuracy is around 10% (chance):"
   ]
  },
  {
   "cell_type": "code",
   "execution_count": 9,
   "id": "7d14267c-6305-4d54-b805-4f286c716256",
   "metadata": {},
   "outputs": [
    {
     "name": "stdout",
     "output_type": "stream",
     "text": [
      "loss(t=0): 1.084646, accuracy(t=0): 0.11672\n"
     ]
    }
   ],
   "source": [
    "gX = forward(X, Wl)[0]\n",
    "print(f\"loss(t={t}): {loss(Y, gX):.6f}, accuracy(t={t}): {accuracy(Y, gX)}\")"
   ]
  },
  {
   "cell_type": "markdown",
   "id": "29412a43-41b9-4602-94fa-690b7b97d008",
   "metadata": {},
   "source": [
    "Training one step decreases the loss and raises the accuracy:"
   ]
  },
  {
   "cell_type": "code",
   "execution_count": 10,
   "id": "8daab6ee-3caf-4ed9-8b03-6ee64435686e",
   "metadata": {},
   "outputs": [
    {
     "name": "stdout",
     "output_type": "stream",
     "text": [
      "loss(t=1): 0.660134, accuracy(t=1): 0.13232\n"
     ]
    }
   ],
   "source": [
    "dLdWl = backward(Y, Wl, forward(X, Wl)[-1])\n",
    "update(Wl, dLdWl, lr=1e-6)\n",
    "t += 1\n",
    "\n",
    "gX = forward(X, Wl)[0]\n",
    "print(f\"loss(t={t}): {loss(Y, gX):.6f}, accuracy(t={t}): {accuracy(Y, gX)}\")"
   ]
  },
  {
   "cell_type": "markdown",
   "id": "650ccdc3-995d-4cdc-a1ce-4960551a5862",
   "metadata": {},
   "source": [
    "Now, we train the network for 9 more steps:"
   ]
  },
  {
   "cell_type": "code",
   "execution_count": 11,
   "id": "5e97064b-005f-47ab-9a9b-b9dca847d790",
   "metadata": {},
   "outputs": [
    {
     "name": "stdout",
     "output_type": "stream",
     "text": [
      "loss(t=10): 0.128222, accuracy(t=10): 0.37348\n"
     ]
    }
   ],
   "source": [
    "for i in range(9):\n",
    "    dLdWl = backward(Y, Wl, forward(X, Wl)[-1])\n",
    "    update(Wl, dLdWl, lr=1e-6)\n",
    "    t += 1\n",
    "\n",
    "gX = forward(X, Wl)[0]\n",
    "print(f\"loss(t={t}): {loss(Y, gX):.6f}, accuracy(t={t}): {accuracy(Y, gX)}\")"
   ]
  },
  {
   "cell_type": "markdown",
   "id": "d4318021-38d3-439f-8345-061e80672df5",
   "metadata": {},
   "source": [
    "The accuracy is improving. Train 90 more steps:"
   ]
  },
  {
   "cell_type": "code",
   "execution_count": 12,
   "id": "4327a2d8-fd72-4969-a388-f1d444743d32",
   "metadata": {},
   "outputs": [
    {
     "data": {
      "application/vnd.jupyter.widget-view+json": {
       "model_id": "703c699fe10a4c078a3a295a64d0a8ca",
       "version_major": 2,
       "version_minor": 0
      },
      "text/plain": [
       "  0%|          | 0/90 [00:00<?, ?it/s]"
      ]
     },
     "metadata": {},
     "output_type": "display_data"
    },
    {
     "name": "stdout",
     "output_type": "stream",
     "text": [
      "loss(t=100): 0.057693, accuracy(t=100): 0.83352\n"
     ]
    }
   ],
   "source": [
    "for i in tqdm(range(90)):\n",
    "    dLdWl = backward(Y, Wl, forward(X, Wl)[-1])\n",
    "    update(Wl, dLdWl, lr=1e-6)\n",
    "    t += 1\n",
    "\n",
    "gX = forward(X, Wl)[0]\n",
    "print(f\"loss(t={t}): {loss(Y, gX):.6f}, accuracy(t={t}): {accuracy(Y, gX)}\")"
   ]
  },
  {
   "cell_type": "markdown",
   "id": "3a972679-f1ca-472d-908f-cc95f8d052d5",
   "metadata": {},
   "source": [
    "After 100 steps of gradient descent the accuracy is **above 80%**. Therefore the linear network learns to solve a task."
   ]
  },
  {
   "cell_type": "markdown",
   "id": "61abd5cc-7ace-44e9-81fb-0a27e778a596",
   "metadata": {},
   "source": [
    "### One weird trick..."
   ]
  },
  {
   "cell_type": "markdown",
   "id": "5f036e41-6795-4aee-a155-ed9f8c83b937",
   "metadata": {},
   "source": [
    "Saxe et. al introduce a special trick for training **very deep** linear networks quickly.\n",
    "\n",
    "They backpropagate error between the estimated and true input-output *covariance* rather than the estimated vs. true output.\n",
    "\n",
    "This allows us to compute a backward pass on $X$ and $Y$ covariance matrices *instead of the full dataset* $\\mathcal D$, greatly speeding up training."
   ]
  },
  {
   "cell_type": "code",
   "execution_count": 13,
   "id": "756bd673-6af4-4b80-a884-f59af566abfe",
   "metadata": {},
   "outputs": [],
   "source": [
    "CXX = X.T @ X / len(X)\n",
    "CYX = Y.T @ X / len(Y)\n",
    "\n",
    "def backward(Wl, CXX, CYX):\n",
    "    fwdmap = [Wl[0].T]\n",
    "    bwdmap = [Wl[-1].T]\n",
    "    for i in range(len(Wl) - 1):\n",
    "        fwdmap.append(fwdmap[-1] @ Wl[i + 1].T)\n",
    "        bwdmap.insert(0, Wl[-i - 2].T @ bwdmap[0])\n",
    "\n",
    "    dLdg = fwdmap[-1].T @ CXX - CYX\n",
    "    dLdWl = []\n",
    "    for i, W in enumerate(Wl):\n",
    "        if i == 0:\n",
    "            dLdW = bwdmap[1] @ dLdg\n",
    "        elif i == len(Wl) - 1:\n",
    "            dLdW = dLdg @ fwdmap[i - 1]\n",
    "        else:\n",
    "            dLdW = bwdmap[i + 1] @ dLdg @ fwdmap[i - 1]\n",
    "        dLdWl.append(dLdW)\n",
    "    return dLdWl"
   ]
  },
  {
   "cell_type": "markdown",
   "id": "e2d8b837-42dc-442f-897d-08bdc493ed53",
   "metadata": {},
   "source": [
    "Armed with this trick, we can train very deep networks for a fraction of the ordinary cost."
   ]
  },
  {
   "cell_type": "markdown",
   "id": "94a6fac4-9f19-49fb-99d7-b6c4b27cff62",
   "metadata": {},
   "source": [
    "### Training a very deep network"
   ]
  },
  {
   "cell_type": "markdown",
   "id": "8b581b06-b2e8-438b-a490-03594237dd4e",
   "metadata": {},
   "source": [
    "Now we initialize a network with **100 layers**:"
   ]
  },
  {
   "cell_type": "code",
   "execution_count": 14,
   "id": "2ffd159f-7aa8-4660-adee-4c813a9e1009",
   "metadata": {},
   "outputs": [
    {
     "name": "stdout",
     "output_type": "stream",
     "text": [
      "loss(t=0): 0.877237, accuracy(t=0): 0.08368\n"
     ]
    }
   ],
   "source": [
    "Nl = [100] + 100 * [32] + [10]\n",
    "Wl = initialize_W(Nl)\n",
    "\n",
    "t = 0\n",
    "gX = forward(X, Wl)[0]\n",
    "print(f\"loss(t={t}): {loss(Y, gX):.6f}, accuracy(t={t}): {accuracy(Y, gX)}\")"
   ]
  },
  {
   "cell_type": "markdown",
   "id": "c936b9bb-502a-4a7a-a340-365ffae69927",
   "metadata": {},
   "source": [
    "Again the initial accuracy is close to chance. We train for 1000 steps:"
   ]
  },
  {
   "cell_type": "code",
   "execution_count": 15,
   "id": "b0e749b9-1300-45aa-9d97-317224187514",
   "metadata": {},
   "outputs": [
    {
     "name": "stdout",
     "output_type": "stream",
     "text": [
      "loss(t=1000): 0.098888, accuracy(t=1000): 0.16786\n"
     ]
    }
   ],
   "source": [
    "for i in range(1000):\n",
    "    dLdWl = backward(Wl, CXX, CYX)\n",
    "    update(Wl, dLdWl, lr=1e-3)\n",
    "    t += 1\n",
    "\n",
    "print(f\"loss(t={t}): {loss(Y, forward(X, Wl)[0]):.6f}, accuracy(t={t}): {accuracy(Y, forward(X, Wl)[0])}\")"
   ]
  },
  {
   "cell_type": "markdown",
   "id": "b6e1ebb9-0db0-4083-959b-c7cba0687e1c",
   "metadata": {},
   "source": [
    "The accuracy rises somewhat, more slowly than in the 2-layer network. We run 9000 more steps:"
   ]
  },
  {
   "cell_type": "code",
   "execution_count": 16,
   "id": "bf2805b8-5047-436e-ae8b-a2738e6d1834",
   "metadata": {},
   "outputs": [
    {
     "data": {
      "application/vnd.jupyter.widget-view+json": {
       "model_id": "2c43c1939a714f478b2849a91866536a",
       "version_major": 2,
       "version_minor": 0
      },
      "text/plain": [
       "  0%|          | 0/9000 [00:00<?, ?it/s]"
      ]
     },
     "metadata": {},
     "output_type": "display_data"
    },
    {
     "name": "stdout",
     "output_type": "stream",
     "text": [
      "loss(t=10000): 0.089055, accuracy(t=10000): 0.37322\n"
     ]
    }
   ],
   "source": [
    "for i in tqdm(range(9000)):\n",
    "    dLdWl = backward(Wl, CXX, CYX)\n",
    "    update(Wl, dLdWl, lr=1e-3)\n",
    "    t += 1\n",
    "\n",
    "print(f\"loss(t={t}): {loss(Y, forward(X, Wl)[0]):.6f}, accuracy(t={t}): {accuracy(Y, forward(X, Wl)[0])}\")"
   ]
  },
  {
   "cell_type": "markdown",
   "id": "d0109720-cbda-43b9-b633-d3fa331fed9d",
   "metadata": {},
   "source": [
    "After 10000 steps of training accuracy is **around 30%**.\n",
    "\n",
    "It seems the network learns, but **converges slowly** due to its depth."
   ]
  },
  {
   "cell_type": "markdown",
   "id": "b8287ee1-40df-4923-8b7d-3e4d2672d8f7",
   "metadata": {},
   "source": [
    "# Part 3: Testing dynamical isometry"
   ]
  },
  {
   "cell_type": "markdown",
   "id": "b456d6f3-7404-43ae-a2da-e0840b2e40d0",
   "metadata": {},
   "source": [
    "Saxe, McClelland and Ganguli describe a special learning regime which occurs when\n",
    "\n",
    "1. the network's input and output connectivity modes align with principle directions of the input and output distributions, and\n",
    "2. the gain (change in mode strength) of an input-output mode pair remains $O(1)$ across network layers.\n",
    "\n",
    "The authors call this regime **dynamical isometry** and claim that it is especially good for learning in that\n",
    "\n",
    "1. gradient descent attracts networks to the dynamically isometric state, and\n",
    "2. once the dynamics are isometric, they stay that way for the remainder of learning.\n",
    "\n",
    "Allegedly, obtaining dynamical isometry makes convergence more rapid, especially for **very deep** networks."
   ]
  },
  {
   "cell_type": "markdown",
   "id": "1ca55726-f136-46dc-b9f4-a3aadd13261a",
   "metadata": {},
   "source": [
    "### An experiment"
   ]
  },
  {
   "attachments": {},
   "cell_type": "markdown",
   "id": "25bdfb39-7511-423d-89cb-27e034076911",
   "metadata": {},
   "source": [
    "We test this claim by training two 100-layer networks side by side: \n",
    "\n",
    "1. **network 1**: initialized with the random norm-preserving projections used above, and\n",
    "2. **network 2**: initialized so that weight matrix rows are orthonormal.\n",
    "\n",
    "The authors state that initialization strategy (2) confers dynamical isometry, while (1) does not.\n",
    "\n",
    "If the claims about dynamical isometry are true, then **network 2 will learn faster than network 1**.\n",
    "\n",
    "Let's run the experiment and see."
   ]
  },
  {
   "cell_type": "code",
   "execution_count": 17,
   "id": "48ebcade-a9e0-4400-80f3-5a00a524242a",
   "metadata": {},
   "outputs": [],
   "source": [
    "# both networks have 100 layers\n",
    "Nl = [100] + 100 * [32] + [10]\n",
    "\n",
    "# network 1: initialized with norm-preserving random projections\n",
    "Wl1 = initialize_W(Nl)\n",
    "\n",
    "# network 2: initialized with random orthonormal projections\n",
    "Wl2 = []\n",
    "for Nin, Nout in zip(Nl[:-1], Nl[1:]):\n",
    "    W = np.random.randn(Nin, Nin)\n",
    "    Q, R = np.linalg.qr(W)\n",
    "    W = Q[:Nout, :Nin]\n",
    "    Wl2.append(W)"
   ]
  },
  {
   "cell_type": "markdown",
   "id": "7d3bd092-d820-49a7-ac13-98cf78ac02cd",
   "metadata": {},
   "source": [
    "We check each network's initial accuracy. Both start at chance."
   ]
  },
  {
   "cell_type": "code",
   "execution_count": 18,
   "id": "eaa3a14c-9828-4fbd-94b0-7aa357453946",
   "metadata": {},
   "outputs": [
    {
     "name": "stdout",
     "output_type": "stream",
     "text": [
      "initial loss1(t=0): 0.326161, accuracy1(t=0): 0.11102\n",
      "initial loss2(t=0): 1.107688, accuracy2(t=0): 0.08458\n"
     ]
    }
   ],
   "source": [
    "t = 0\n",
    "g1X = forward(X, Wl1)[0]\n",
    "g2X = forward(X, Wl2)[0]\n",
    "print(f\"initial loss1(t={t}): {loss(Y, g1X):.6f}, accuracy1(t={t}): {accuracy(Y, g1X)}\")\n",
    "print(f\"initial loss2(t={t}): {loss(Y, g2X):.6f}, accuracy2(t={t}): {accuracy(Y, g2X)}\")"
   ]
  },
  {
   "cell_type": "markdown",
   "id": "302b1686-9992-4439-89f9-ba30341978de",
   "metadata": {},
   "source": [
    "We train both networks for 10000 steps (just like the network in part 2). Every 100 steps we record the loss and accuracy."
   ]
  },
  {
   "cell_type": "code",
   "execution_count": 19,
   "id": "1d83c97c-3cdc-4624-8ac0-67e1f850ad04",
   "metadata": {},
   "outputs": [
    {
     "data": {
      "application/vnd.jupyter.widget-view+json": {
       "model_id": "5f0fbbb217624b60b6077dbe34d75abd",
       "version_major": 2,
       "version_minor": 0
      },
      "text/plain": [
       "  0%|          | 0/100 [00:00<?, ?it/s]"
      ]
     },
     "metadata": {},
     "output_type": "display_data"
    },
    {
     "name": "stdout",
     "output_type": "stream",
     "text": [
      "loss1(t=10000): 0.090007, accuracy1(t=10000): 0.34284\n",
      "loss2(t=10000): 0.069998, accuracy2(t=10000): 0.69902\n"
     ]
    }
   ],
   "source": [
    "results = []\n",
    "for i in tqdm(range(100)):\n",
    "    g1X = forward(X, Wl1)[0]\n",
    "    g2X = forward(X, Wl2)[0]\n",
    "    results.append({\n",
    "        't': t,\n",
    "        'loss1': loss(Y, g1X),\n",
    "        'loss2': loss(Y, g2X),\n",
    "        'acc1': accuracy(Y, g1X),\n",
    "        'acc2': accuracy(Y, g2X),\n",
    "    })\n",
    "    for i in range(100):\n",
    "        dLdWl = backward(Wl1, CXX, CYX)\n",
    "        update(Wl1, dLdWl, lr=1e-3)\n",
    "        dLdWl = backward(Wl2, CXX, CYX)\n",
    "        update(Wl2, dLdWl, lr=1e-3)\n",
    "        t += 1\n",
    "\n",
    "print(f\"loss1(t={t}): {loss(Y, g1X):.6f}, accuracy1(t={t}): {accuracy(Y, g1X)}\")\n",
    "print(f\"loss2(t={t}): {loss(Y, g2X):.6f}, accuracy2(t={t}): {accuracy(Y, g2X)}\")"
   ]
  },
  {
   "cell_type": "markdown",
   "id": "3acb9d21-36e4-4037-9191-81c5d2144cd2",
   "metadata": {},
   "source": [
    "### Results"
   ]
  },
  {
   "attachments": {},
   "cell_type": "markdown",
   "id": "e2d3bcca-1286-4780-b273-4e5ec21da12c",
   "metadata": {},
   "source": [
    "As in part 2, network 1 achieves about **30% accuracy** after 10000 steps.\n",
    "\n",
    "Network 2, initialized with dynamical isometry, reaches **>60% accuracy** in the same time.\n",
    "\n",
    "Clearly, network 2 learns faster than network 1 (see figure below). This result affirms the claims about dynamical isometry."
   ]
  },
  {
   "cell_type": "code",
   "execution_count": 20,
   "id": "a9617632-98a2-4988-9e7d-1629b110f4cc",
   "metadata": {},
   "outputs": [
    {
     "data": {
      "image/png": "[encoded data removed]",
      "text/plain": [
       "<Figure size 800x400 with 2 Axes>"
      ]
     },
     "metadata": {},
     "output_type": "display_data"
    }
   ],
   "source": [
    "df = pd.DataFrame(results)\n",
    "plt.figure(figsize=(8, 4))\n",
    "\n",
    "plt.subplot(2, 1, 1)\n",
    "plt.title('The timecourse of learning')\n",
    "plt.ylabel('Accuracy')\n",
    "plt.plot(df['t'], df['acc1'], label='Network 1')\n",
    "plt.plot(df['t'], df['acc2'], label='Network 2')\n",
    "plt.ylim([0, 1])\n",
    "plt.xticks([], [])\n",
    "plt.legend()\n",
    "\n",
    "plt.subplot(2, 1, 2)\n",
    "plt.ylabel('MSE loss')\n",
    "plt.plot(df['t'], df['loss1'], label='Network 1')\n",
    "plt.plot(df['t'], df['loss2'], label='Network 2')\n",
    "plt.ylim([0, 0.2])\n",
    "plt.xlabel('Training step')\n",
    "plt.legend()\n",
    "plt.show()"
   ]
  },
  {
   "cell_type": "markdown",
   "id": "a65095a8-8d2f-4228-be5f-efa59e9e7f0c",
   "metadata": {},
   "source": [
    "# Conclusion"
   ]
  },
  {
   "cell_type": "markdown",
   "id": "5e9e5f01-f1ea-4058-bc60-e93f5a61a59e",
   "metadata": {},
   "source": [
    "In this notebook we investigated deep linear networks as described by Saxe et al. in *\"Exact solution to the nonlinear dynamics of learning in deep linear neural networks.\"*\n",
    "\n",
    "First, we derived the gradient descent update rule for the generalized linear network. Then we showed that the linear network can be trained to classifiy MNIST digits.\n",
    "\n",
    "We implemented a computational trick to greatly speed up training, and showed that it can train a very deep network quickly. Using this trick, we performed an experiment testing dynamical isometry in very deep networks.\n",
    "\n",
    "We found that initializing a network into dynamical isometry greatly speeds up training. This **confirmed** the claims by Saxe, McClelland and Ganguli. ∎"
   ]
  },
  {
   "cell_type": "code",
   "execution_count": null,
   "id": "ebe81fb6-99ca-4976-a894-25050df77478",
   "metadata": {},
   "outputs": [],
   "source": []
  }
 ],
 "metadata": {
  "kernelspec": {
   "display_name": "Python 3 (ipykernel)",
   "language": "python",
   "name": "python3"
  },
  "language_info": {
   "codemirror_mode": {
    "name": "ipython",
    "version": 3
   },
   "file_extension": ".py",
   "mimetype": "text/x-python",
   "name": "python",
   "nbconvert_exporter": "python",
   "pygments_lexer": "ipython3",
   "version": "3.10.6"
  }
 },
 "nbformat": 4,
 "nbformat_minor": 5
}
